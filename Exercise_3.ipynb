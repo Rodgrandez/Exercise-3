{
 "cells": [
  {
   "cell_type": "markdown",
   "metadata": {},
   "source": [
    "\n",
    "# Exercise 3 -  Text mining \n"
   ]
  },
  {
   "cell_type": "code",
   "execution_count": null,
   "metadata": {},
   "outputs": [],
   "source": [
    "! pip install --quiet gensim"
   ]
  },
  {
   "cell_type": "code",
   "execution_count": 254,
   "metadata": {},
   "outputs": [],
   "source": [
    "import re\n",
    "from re import sub, split\n",
    "import pandas as pd\n",
    "import numpy as np"
   ]
  },
  {
   "cell_type": "code",
   "execution_count": 260,
   "metadata": {},
   "outputs": [],
   "source": [
    "# Our data\n",
    "yelps = pd.read_csv('data/yelps.csv').sample(frac=1.)\n"
   ]
  },
  {
   "cell_type": "markdown",
   "metadata": {},
   "source": [
    "#### Define a tokenize function"
   ]
  },
  {
   "cell_type": "code",
   "execution_count": 261,
   "metadata": {},
   "outputs": [],
   "source": [
    "from bs4 import BeautifulSoup\n",
    "from nltk.tokenize import word_tokenize\n",
    "\n",
    "def clean_yelp(s):\n",
    "    s = BeautifulSoup(s, 'html5lib').get_text()\n",
    "    s = ' '.join(s.split())\n",
    "    s = s.strip().lower()\n",
    "    return s\n",
    "\n",
    "def tokenize(s):\n",
    "    \"\"\" Returns a list of strings (tokens) from the document \"\"\"\n",
    "    ##there are no empty list in yelds\n",
    "    pattern = re.compile(r'[A-Za-z]+[\\w^\\']*|[\\w^\\']*[A-Za-z]+[\\w^\\']*')\n",
    "    tokenize= pattern.findall(s)\n",
    "    return tokenize\n",
    "\n",
    "    # Implement this function!\n",
    "    # Hint: If you look at the sklearn source code on github, \n",
    "    # you will find a good regular expression they use as a default\n",
    "    # tokenizer in CountVectorizer -- this is the tokenizer\n",
    "    # we have been using until now!\n",
    "    # But you need to implement your own now. "
   ]
  },
  {
   "cell_type": "markdown",
   "metadata": {},
   "source": [
    "#### Creating a count vectorizer  for a Latent Semantic Analysis"
   ]
  },
  {
   "cell_type": "code",
   "execution_count": 262,
   "metadata": {},
   "outputs": [
    {
     "name": "stderr",
     "output_type": "stream",
     "text": [
      "C:\\Users\\Rodrigo\\Anaconda3\\lib\\site-packages\\bs4\\__init__.py:273: UserWarning: \"b'..'\" looks like a filename, not markup. You should probably open this file and pass the filehandle into Beautiful Soup.\n",
      "  ' Beautiful Soup.' % markup)\n",
      "C:\\Users\\Rodrigo\\Anaconda3\\lib\\site-packages\\bs4\\__init__.py:336: UserWarning: \"https://www.consumeraffairs.com/news/mypillow-gets-a-rude-awakening-as-the-better-business-bureau-gives-it-an-f-010517.html\" looks like a URL. Beautiful Soup is not an HTTP client. You should probably use an HTTP client like requests to get the document behind the URL, and feed that document to Beautiful Soup.\n",
      "  ' that document to Beautiful Soup.' % decoded_markup\n",
      "C:\\Users\\Rodrigo\\Anaconda3\\lib\\site-packages\\bs4\\__init__.py:273: UserWarning: \"b'...'\" looks like a filename, not markup. You should probably open this file and pass the filehandle into Beautiful Soup.\n",
      "  ' Beautiful Soup.' % markup)\n",
      "C:\\Users\\Rodrigo\\Anaconda3\\lib\\site-packages\\bs4\\__init__.py:273: UserWarning: \"b'..'\" looks like a filename, not markup. You should probably open this file and pass the filehandle into Beautiful Soup.\n",
      "  ' Beautiful Soup.' % markup)\n"
     ]
    }
   ],
   "source": [
    "from sklearn.feature_extraction.text import CountVectorizer\n",
    "from sklearn.decomposition import TruncatedSVD\n",
    "from sklearn.decomposition import PCA\n",
    "\n",
    "vectorizer = CountVectorizer(preprocessor = clean_yelp, tokenizer=tokenize)\n",
    "# vector representation (TF matrix)\n",
    "V = vectorizer.fit_transform(yelps.text)\n",
    "# PCA of TF matrix\n",
    "svd = TruncatedSVD(n_components=100)\n",
    "yelp_transformed = svd.fit_transform(V)\n",
    "\n",
    "\n",
    "\n",
    "# Create a count vectorizer, using the preprocessor and tokenizer from above\n",
    "# use TruncatedSVD from Sklearn to generate a term embedding matrix for your data\n",
    "# that is 100 dimensional in size.\n",
    "# Embed your documents via that term embedding matrix (this is just the PCA of the \n",
    "# TF matrix, as returned by \"transform\" on TruncatedSVD\n",
    "\n",
    "# Here you should have TWO vector representations of your Yelp data: \n",
    "# 1. The original TF matrix\n",
    "# 2. The first 100 components of the PCA of that matrix, as performed by TruncatedSVD"
   ]
  },
  {
   "cell_type": "markdown",
   "metadata": {},
   "source": [
    "#### Training on a small part of the data"
   ]
  },
  {
   "cell_type": "code",
   "execution_count": 263,
   "metadata": {},
   "outputs": [],
   "source": [
    "from sklearn.metrics import accuracy_score\n",
    "from sklearn.linear_model import LogisticRegression\n",
    "def test_holdout_vectors(V, y, cutoff):\n",
    "    model = LogisticRegression()\n",
    "    model.fit(V[:cutoff], y[:cutoff])\n",
    "    preds = model.predict(V[cutoff:])\n",
    "    return accuracy_score(preds, y[cutoff:])\n",
    "\n",
    "# Test your vector representations using the above function, test_holdout_vectors. \n",
    "# for several levels of \"cutoff\". \n",
    "\n",
    "# This function simulates training on a small part of your data and testing on the rest.\n",
    "# Thus, it's as though you have some labelled data but a bunch of unlabelled data. \n",
    "# This is essentially a semi-supervised situation. \n",
    "\n",
    "# Do the word embeddings generated via SVD allow you to pull information from the \n",
    "# unlabeled data and improve your score given a small training set?"
   ]
  },
  {
   "cell_type": "markdown",
   "metadata": {},
   "source": [
    "### Do the word embeddings generated via SVD allow you to pull information from the unlabeled data and improve your score given a small training set?\n",
    "\n",
    "No, it does improve the score for a small training set. For a training sample of 1000 the accuracy score decreases when I use word embeddings generated via SVD. \n",
    "\n",
    "- It's worth noting that the accuracy depends heavily on the amount of the training data. \n"
   ]
  },
  {
   "cell_type": "code",
   "execution_count": 264,
   "metadata": {},
   "outputs": [
    {
     "data": {
      "text/plain": [
       "[0.9008989898989899, 0.9480666666666666, 0.95924, 0.9622, 0.96255, 0.9636]"
      ]
     },
     "execution_count": 264,
     "metadata": {},
     "output_type": "execute_result"
    }
   ],
   "source": [
    "cutoff=[1000, 10000, 50000, 75000, 80000, 85000]\n",
    "scores_svd=[]\n",
    "for coff in cutoff:\n",
    "    score=test_holdout_vectors(V=V, y=yelps.positive, cutoff=coff)\n",
    "    scores_svd.append(score)\n",
    "scores_svd"
   ]
  },
  {
   "cell_type": "code",
   "execution_count": 265,
   "metadata": {},
   "outputs": [
    {
     "name": "stderr",
     "output_type": "stream",
     "text": [
      "C:\\Users\\Rodrigo\\Anaconda3\\lib\\site-packages\\sklearn\\linear_model\\logistic.py:433: FutureWarning: Default solver will be changed to 'lbfgs' in 0.22. Specify a solver to silence this warning.\n",
      "  FutureWarning)\n",
      "C:\\Users\\Rodrigo\\Anaconda3\\lib\\site-packages\\sklearn\\linear_model\\logistic.py:433: FutureWarning: Default solver will be changed to 'lbfgs' in 0.22. Specify a solver to silence this warning.\n",
      "  FutureWarning)\n",
      "C:\\Users\\Rodrigo\\Anaconda3\\lib\\site-packages\\sklearn\\linear_model\\logistic.py:433: FutureWarning: Default solver will be changed to 'lbfgs' in 0.22. Specify a solver to silence this warning.\n",
      "  FutureWarning)\n",
      "C:\\Users\\Rodrigo\\Anaconda3\\lib\\site-packages\\sklearn\\linear_model\\logistic.py:433: FutureWarning: Default solver will be changed to 'lbfgs' in 0.22. Specify a solver to silence this warning.\n",
      "  FutureWarning)\n",
      "C:\\Users\\Rodrigo\\Anaconda3\\lib\\site-packages\\sklearn\\linear_model\\logistic.py:433: FutureWarning: Default solver will be changed to 'lbfgs' in 0.22. Specify a solver to silence this warning.\n",
      "  FutureWarning)\n"
     ]
    },
    {
     "data": {
      "text/plain": [
       "[0.8633838383838384, 0.8908666666666667, 0.89544, 0.89368, 0.8943, 0.8936]"
      ]
     },
     "execution_count": 265,
     "metadata": {},
     "output_type": "execute_result"
    }
   ],
   "source": [
    "cutoff=[1000, 10000, 50000, 75000, 80000, 85000]\n",
    "scores_svd2=[]\n",
    "for coff in cutoff:\n",
    "    score=test_holdout_vectors(V=yelp_transformed, y=yelps.positive, cutoff=coff)\n",
    "    scores_svd2.append(score)\n",
    "scores_svd2"
   ]
  },
  {
   "cell_type": "markdown",
   "metadata": {},
   "source": [
    "### Word2Vec\n",
    "Given that there is a lot of data, I use a small sample to run faster."
   ]
  },
  {
   "cell_type": "code",
   "execution_count": 266,
   "metadata": {},
   "outputs": [],
   "source": [
    "import gensim \n",
    "from time import time\n",
    "import multiprocessing\n",
    "from gensim.models import Word2Vec\n",
    "cores = multiprocessing.cpu_count() # Count the number of cores in a computer\n",
    "\n",
    "# Next, create another term embedding via Word2Vec, also 100 dimensional\n",
    "# Look at the documentation from the library gensim and see what hyperparameters\n",
    "# you can choose to tune. \n",
    "# Note: training takes time, so you probably won't want to try too many!\n",
    "\n",
    "# pass the cleaned and tokenized yelp reviews as \"sentences\" to your model\n",
    "# to build the vocabulary and train the word vectors."
   ]
  },
  {
   "cell_type": "code",
   "execution_count": 267,
   "metadata": {},
   "outputs": [],
   "source": [
    "# use the embed_w2v function to embed your Yelp reviews using the new\n",
    "# word2vec word embeddings. Each review will be a normalized sum of the\n",
    "# words that it is made of. \n",
    "# See how this improves the scores in the classification task using\n",
    "# test_holdout_vectors -- is word2vec better? At what training-set sizes does it help\n",
    "# more?"
   ]
  },
  {
   "cell_type": "markdown",
   "metadata": {},
   "source": [
    "####  Perform on a smaller sample of the data"
   ]
  },
  {
   "cell_type": "code",
   "execution_count": 285,
   "metadata": {},
   "outputs": [],
   "source": [
    "yelps = pd.read_csv('data/yelps.csv')\n",
    "\n",
    "yelps_text = yelps.text[0:500]\n",
    "yelps_clean_sentence=yelps_text.map(clean_yelp)\n",
    "yelps_tokenized_sentences = yelps_clean_sentence.map(tokenize)"
   ]
  },
  {
   "cell_type": "code",
   "execution_count": 293,
   "metadata": {},
   "outputs": [],
   "source": [
    "#yelps = pd.read_csv('data/yelps.csv')\n",
    "\n",
    "yelps_sample = yelps.sample(500)\n",
    "\n",
    "yelps_clean_sentence=yelps_sample.text.map(clean_yelp)\n",
    "yelps_tokenized_sentences = yelps_clean_sentence.map(tokenize)"
   ]
  },
  {
   "cell_type": "code",
   "execution_count": 294,
   "metadata": {
    "scrolled": true
   },
   "outputs": [
    {
     "name": "stderr",
     "output_type": "stream",
     "text": [
      "C:\\Users\\Rodrigo\\Anaconda3\\lib\\site-packages\\gensim\\models\\base_any2vec.py:743: UserWarning: C extension not loaded, training will be slow. Install a C compiler and reinstall gensim for fast training.\n",
      "  \"C extension not loaded, training will be slow. \"\n",
      "C:\\Users\\Rodrigo\\Anaconda3\\lib\\site-packages\\ipykernel_launcher.py:17: DeprecationWarning: Call to deprecated `iter` (Attribute will be removed in 4.0.0, use self.epochs instead).\n"
     ]
    },
    {
     "name": "stdout",
     "output_type": "stream",
     "text": [
      "Time to train the model: 6.31 mins\n"
     ]
    }
   ],
   "source": [
    "# Set values for various parameters\n",
    "min_word_count = 5    # Minimum word count\n",
    "num_workers = cores-1  # Number of threads to run in parallel\n",
    "#context = 2           # Context window size\n",
    "downsampling = 1e-3   # Downsample setting for frequent words\n",
    "t = time()\n",
    "W2Vmodel = Word2Vec(yelps_tokenized_sentences,\n",
    "                    workers=cores-1,\n",
    "                    size=100,\n",
    "                    min_count=min_word_count,\n",
    "                    window=5,\n",
    "                    sample=downsampling\n",
    "                   )\n",
    "# train the model\n",
    "W2Vmodel.train(yelps_tokenized_sentences, \n",
    "               total_examples = W2Vmodel.corpus_count, \n",
    "               epochs = W2Vmodel.iter)\n",
    "print('Time to train the model: {} mins'.format(round((time() - t) / 60, 2)))"
   ]
  },
  {
   "cell_type": "code",
   "execution_count": 295,
   "metadata": {},
   "outputs": [
    {
     "data": {
      "text/plain": [
       "(500, 100)"
      ]
     },
     "execution_count": 295,
     "metadata": {},
     "output_type": "execute_result"
    }
   ],
   "source": [
    "# Using the \"embed_w2v\" function to embed Yelp reviews using the new\n",
    "# word2vec word embeddings. Each review will be a normalized sum of the\n",
    "# words that it is made of. \n",
    "\n",
    "\n",
    "import numpy as np\n",
    "\n",
    "def embed_w2v(tokens, w2v):\n",
    "    idxs = [w2v.wv.vocab.get(t) for t in tokens]\n",
    "    idxs = [t.index for t in idxs if t]\n",
    "    N = w2v.wv.vectors.shape[1]\n",
    "    if len(idxs) < 1:\n",
    "        return np.zeros(N)\n",
    "    a = np.sum(w2v.wv.vectors[idxs, :], axis=0)\n",
    "    a /= np.linalg.norm(a)\n",
    "    return a\n",
    "\n",
    "\n",
    "word_embed=  np.array([embed_w2v(t,W2Vmodel) for t in yelps_tokenized_sentences ])\n",
    "word_embed.shape"
   ]
  },
  {
   "cell_type": "markdown",
   "metadata": {},
   "source": [
    "###  word2vec works better?\n",
    "- At what training-set sizes does it help more?\n",
    "\n",
    "It works better for  a training set that is about 70% of the total sample, then the score decrease as we work with sample larger then 70% as we can see above.  \n"
   ]
  },
  {
   "cell_type": "code",
   "execution_count": 308,
   "metadata": {},
   "outputs": [
    {
     "name": "stderr",
     "output_type": "stream",
     "text": [
      "C:\\Users\\Rodrigo\\Anaconda3\\lib\\site-packages\\sklearn\\linear_model\\logistic.py:433: FutureWarning: Default solver will be changed to 'lbfgs' in 0.22. Specify a solver to silence this warning.\n",
      "  FutureWarning)\n",
      "C:\\Users\\Rodrigo\\Anaconda3\\lib\\site-packages\\sklearn\\linear_model\\logistic.py:433: FutureWarning: Default solver will be changed to 'lbfgs' in 0.22. Specify a solver to silence this warning.\n",
      "  FutureWarning)\n",
      "C:\\Users\\Rodrigo\\Anaconda3\\lib\\site-packages\\sklearn\\linear_model\\logistic.py:433: FutureWarning: Default solver will be changed to 'lbfgs' in 0.22. Specify a solver to silence this warning.\n",
      "  FutureWarning)\n",
      "C:\\Users\\Rodrigo\\Anaconda3\\lib\\site-packages\\sklearn\\linear_model\\logistic.py:433: FutureWarning: Default solver will be changed to 'lbfgs' in 0.22. Specify a solver to silence this warning.\n",
      "  FutureWarning)\n",
      "C:\\Users\\Rodrigo\\Anaconda3\\lib\\site-packages\\sklearn\\linear_model\\logistic.py:433: FutureWarning: Default solver will be changed to 'lbfgs' in 0.22. Specify a solver to silence this warning.\n",
      "  FutureWarning)\n",
      "C:\\Users\\Rodrigo\\Anaconda3\\lib\\site-packages\\sklearn\\linear_model\\logistic.py:433: FutureWarning: Default solver will be changed to 'lbfgs' in 0.22. Specify a solver to silence this warning.\n",
      "  FutureWarning)\n",
      "C:\\Users\\Rodrigo\\Anaconda3\\lib\\site-packages\\sklearn\\linear_model\\logistic.py:433: FutureWarning: Default solver will be changed to 'lbfgs' in 0.22. Specify a solver to silence this warning.\n",
      "  FutureWarning)\n"
     ]
    },
    {
     "data": {
      "text/plain": [
       "[0.5525, 0.56, 0.56, 0.545, 0.5866666666666667, 0.57, 0.58]"
      ]
     },
     "execution_count": 308,
     "metadata": {},
     "output_type": "execute_result"
    }
   ],
   "source": [
    "# test_holdout_vectors -- is word2vec better? At what training-set sizes does it help\n",
    "# more?\n",
    "cutoff=[100, 150, 200, 300, 350, 400, 450]\n",
    "scores=[]\n",
    "for coff in cutoff:\n",
    "    score=test_holdout_vectors(V=word_embed, y=yelps_sample.positive, cutoff=coff)\n",
    "    scores.append(score)\n",
    "scores"
   ]
  },
  {
   "cell_type": "markdown",
   "metadata": {},
   "source": [
    "## Second part: Tweets"
   ]
  },
  {
   "cell_type": "code",
   "execution_count": 309,
   "metadata": {},
   "outputs": [],
   "source": [
    "import pandas as pd\n",
    "import re\n",
    "from functools import reduce\n",
    "import spacy\n",
    "\n",
    "pats = [re.compile(r'https?:\\/\\/[^\\s]+'), \n",
    "        re.compile(r'rt\\s*@\\w+\\s?:?'),\n",
    "        re.compile(r'@\\w+')]\n",
    "\n",
    "def clean_twitter(s):\n",
    "    \"\"\" Cleans Twitter specific issues\n",
    "    \n",
    "    Should probably clean out mentions, URLs, and RT's.\n",
    "    \"\"\"\n",
    "    s = s.lower()\n",
    "    _sub = lambda s,pat: re.sub(pat, '', s)\n",
    "    s = reduce(_sub, pats, s)\n",
    "    s = ' '.join(s.split()).strip()\n",
    "    pat1=r'@\\S+|https?[^\\s]+|rt\\s+|[^\\w+]'\n",
    "    pat2=r'\\s+[a-zA-Z]\\s+|\\s+'\n",
    "    pat3=r'^\\s+|\\s+$'\n",
    "    tex_clean=sub(pat1,\" \", s)\n",
    "    text_space=sub(pat2,\" \", tex_clean)\n",
    "    output = sub(pat3,\"\", text_space)\n",
    "    \n",
    "    # TODO: Use regular expressions to remove unwanted\n",
    "    # text and clean up our tweets to be more usable!\n",
    "    sp = spacy.load('en_core_web_sm')\n",
    "    sentence=sp(output)\n",
    "    # Extract part-of-speech and lemmatize this sentence.\n",
    "    #part_of_speech = [(x.orth_,x.pos_, x.lemma_) for x in [y \n",
    "    #                                  for y\n",
    "    #                                  in sentence \n",
    "    #                                  if not y.is_stop and y.pos_ != 'PUNCT']]\n",
    "    #Named entity extraction \n",
    "    #entity = dict([(str(x), x.label_) for x in sentence.ents])\n",
    "    #lemmatize\n",
    "    lemmatize=\" \".join([word.lemma_ for word in sentence])\n",
    "    # BONUS: Try using the library \"spacy\" to \n",
    "    # do further processing, such as lemmatizing\n",
    "    # or replacing Named Entities with constants (i.e. \"[NAMED]\")\n",
    "    # or adding the part of speech or dependency code to the word \n",
    "\n",
    "    return lemmatize"
   ]
  },
  {
   "cell_type": "code",
   "execution_count": 388,
   "metadata": {},
   "outputs": [],
   "source": [
    "# Load tweet!\n",
    "# NOTE: this file needs to be downloaded from Box! \n",
    "\n",
    "\n",
    "with open('data/tweets.txt', encoding=\"utf8\") as f:\n",
    "    tweets = pd.Series(f.readlines())"
   ]
  },
  {
   "cell_type": "markdown",
   "metadata": {},
   "source": [
    "####  Perform on a smaller sample of the data"
   ]
  },
  {
   "cell_type": "code",
   "execution_count": 389,
   "metadata": {},
   "outputs": [],
   "source": [
    "tweets = tweets[1:501]"
   ]
  },
  {
   "cell_type": "code",
   "execution_count": 390,
   "metadata": {},
   "outputs": [],
   "source": [
    "tweets_cleaned= tweets.map(clean_twitter)"
   ]
  },
  {
   "cell_type": "code",
   "execution_count": 391,
   "metadata": {},
   "outputs": [],
   "source": [
    "tweets_tokenized= tweets_cleaned.map(tokenize)"
   ]
  },
  {
   "cell_type": "code",
   "execution_count": 393,
   "metadata": {},
   "outputs": [],
   "source": [
    "# Now embed this twitter data, again using Word2Vec and LSA (SVD)\n",
    "# you don't have any labels, but you might be able to \n",
    "# find some interesting phenomena. \n",
    "\n",
    "# Explore using either or both of the following tools: \n",
    "# 1. Word2Vec has a built in feature for getting most similar\n",
    "# words, including via positive/negative examples (subtraction)\n",
    "# What happens when you subtract \"hillary\" from \"trump\"? \n",
    "\n",
    "# Bonus: build a similar feature for your LSA features and\n",
    "# see if you can do similar vector math\n",
    "\n",
    "# 2. Use the visualize_dist function to see how\n",
    "# the tweet-tweet distance looks for a selection\n",
    "# of random tweets. Do you agree with the distance? \n",
    "# Does one embedding seem better than another?"
   ]
  },
  {
   "cell_type": "markdown",
   "metadata": {},
   "source": [
    "## Explore using either or both of the following tools: \n",
    "1. Word2Vec has a built in feature for getting most similar\n",
    "- words, including via positive/negative examples (subtraction)\n",
    "- What happens when you subtract \"hillary\" from \"trump\"?"
   ]
  },
  {
   "cell_type": "markdown",
   "metadata": {},
   "source": [
    "###  Word2Vec"
   ]
  },
  {
   "cell_type": "code",
   "execution_count": 394,
   "metadata": {},
   "outputs": [
    {
     "name": "stderr",
     "output_type": "stream",
     "text": [
      "C:\\Users\\Rodrigo\\Anaconda3\\lib\\site-packages\\gensim\\models\\base_any2vec.py:743: UserWarning: C extension not loaded, training will be slow. Install a C compiler and reinstall gensim for fast training.\n",
      "  \"C extension not loaded, training will be slow. \"\n",
      "C:\\Users\\Rodrigo\\Anaconda3\\lib\\site-packages\\ipykernel_launcher.py:12: DeprecationWarning: Call to deprecated `iter` (Attribute will be removed in 4.0.0, use self.epochs instead).\n",
      "  if sys.path[0] == '':\n"
     ]
    },
    {
     "name": "stdout",
     "output_type": "stream",
     "text": [
      "Time to train the model: 0.1 mins\n"
     ]
    }
   ],
   "source": [
    "t = time()\n",
    "tweet_model= Word2Vec(tweets_tokenized,\n",
    "                    workers=cores-1,\n",
    "                    size=20,\n",
    "                    min_count=5,\n",
    "                    window=5,\n",
    "                    sample=1e-3\n",
    "                   )\n",
    "# train the model\n",
    "tweet_model.train(tweets_tokenized, \n",
    "               total_examples = W2Vmodel.corpus_count, \n",
    "               epochs = W2Vmodel.iter)\n",
    "print('Time to train the model: {} mins'.format(round((time() - t) / 60, 2)))"
   ]
  },
  {
   "cell_type": "code",
   "execution_count": 395,
   "metadata": {
    "scrolled": true
   },
   "outputs": [
    {
     "name": "stderr",
     "output_type": "stream",
     "text": [
      "C:\\Users\\Rodrigo\\Anaconda3\\lib\\site-packages\\ipykernel_launcher.py:1: DeprecationWarning: Call to deprecated `most_similar` (Method will be removed in 4.0.0, use self.wv.most_similar() instead).\n",
      "  \"\"\"Entry point for launching an IPython kernel.\n"
     ]
    },
    {
     "data": {
      "text/plain": [
       "[('neverhillary', 0.09212177246809006),\n",
       " ('stop', 0.0566721074283123),\n",
       " ('would', 0.044837936758995056),\n",
       " ('over', 0.044597890228033066),\n",
       " ('receive', 0.0409679040312767),\n",
       " ('maga', 0.0403035506606102),\n",
       " ('election', 0.03705039620399475),\n",
       " ('i', 0.03435015678405762),\n",
       " ('where', 0.03219423443078995),\n",
       " ('bill', 0.03147703409194946)]"
      ]
     },
     "execution_count": 395,
     "metadata": {},
     "output_type": "execute_result"
    }
   ],
   "source": [
    "tweet_model.most_similar(positive=['trump'], negative=['hillary'])"
   ]
  },
  {
   "cell_type": "code",
   "execution_count": 396,
   "metadata": {},
   "outputs": [
    {
     "data": {
      "text/plain": [
       "(500, 20)"
      ]
     },
     "execution_count": 396,
     "metadata": {},
     "output_type": "execute_result"
    }
   ],
   "source": [
    "word_embeding=  np.array([embed_w2v(t, tweet_model) for t in tweets_tokenized ])\n",
    "word_embeding.shape"
   ]
  },
  {
   "cell_type": "code",
   "execution_count": 405,
   "metadata": {},
   "outputs": [
    {
     "data": {
      "text/plain": [
       "(500, 20)"
      ]
     },
     "execution_count": 405,
     "metadata": {},
     "output_type": "execute_result"
    }
   ],
   "source": [
    "# Embedded tweets #2 --> using TruncatedSVD\n",
    "vectorizer = CountVectorizer(preprocessor = clean_twitter, tokenizer=tokenize)\n",
    "V = vectorizer.fit_transform(tweets)\n",
    "# PCA of TF matrix\n",
    "tweet_SVD = TruncatedSVD(n_components=20).fit_transform(V)\n",
    "tweet_SVD.shape\n",
    "\n"
   ]
  },
  {
   "cell_type": "code",
   "execution_count": 398,
   "metadata": {},
   "outputs": [],
   "source": [
    "# Visualization  with heatmap\n",
    "\n",
    "from scipy.spatial.distance import pdist,squareform\n",
    "import seaborn as sns\n",
    "\n",
    "def visualize_dist(V, tokenized_tweets, idxs):\n",
    "    \n",
    "    \n",
    "    #V is the vector of embeddings \n",
    "    #tweets is a list or series that converts from idx to tweet\n",
    "    #idxs is a list of integers that you would like to compare (<= 5 probably)\n",
    "    \n",
    "    m = squareform(pdist(V[idxs], 'cosine'))\n",
    "    \n",
    "    _ = sns.heatmap(pd.DataFrame(m, columns = tokenized_tweets[idxs], index= tokenized_tweets[idxs]))"
   ]
  },
  {
   "cell_type": "code",
   "execution_count": null,
   "metadata": {},
   "outputs": [],
   "source": [
    "# 2. Use the visualize_dist function to see how\n",
    "# the tweet-tweet distance looks for a selection\n",
    "# of random tweets. Do you agree with the distance? \n",
    "# Does one embedding seem better than another?"
   ]
  },
  {
   "cell_type": "markdown",
   "metadata": {},
   "source": [
    "#### you agree with the distance? Does one embedding seem better than another?\n",
    "- I agree with the distance since the words that seems to be related each other have smaller distances. \n",
    "- It seems that tweet-tweet distance with a SVD model works better than Word2Vec model. "
   ]
  },
  {
   "cell_type": "code",
   "execution_count": 401,
   "metadata": {},
   "outputs": [
    {
     "data": {
      "image/png": "[encoded data removed]",
      "text/plain": [
       "<Figure size 432x288 with 2 Axes>"
      ]
     },
     "metadata": {
      "needs_background": "light"
     },
     "output_type": "display_data"
    }
   ],
   "source": [
    "# Visualize tweet-tweet distance for a selection of random tweets \n",
    "\n",
    "idxs= [1,2,3,4] ## random tweets\n",
    "\n",
    "visualize_dist(word_embeding, tweets_tokenized, idxs)"
   ]
  },
  {
   "cell_type": "code",
   "execution_count": 404,
   "metadata": {},
   "outputs": [
    {
     "data": {
      "image/png": "[encoded data removed]",
      "text/plain": [
       "<Figure size 432x288 with 2 Axes>"
      ]
     },
     "metadata": {
      "needs_background": "light"
     },
     "output_type": "display_data"
    }
   ],
   "source": [
    "idxs= [1,2,3,4]\n",
    "\n",
    "visualize_dist(tweet_SVD, tweets_tokenized, idxs)"
   ]
  },
  {
   "cell_type": "code",
   "execution_count": null,
   "metadata": {},
   "outputs": [],
   "source": [
    "# More bonus!\n",
    "# Use one of the following pre-embedded models and see if your yelp scores improve? \n",
    "# What about your Twitter explorations?\n",
    "\n",
    "# https://github.com/RaRe-Technologies/gensim-data"
   ]
  },
  {
   "cell_type": "code",
   "execution_count": null,
   "metadata": {},
   "outputs": [],
   "source": [
    "!pip install glove_python"
   ]
  },
  {
   "cell_type": "code",
   "execution_count": null,
   "metadata": {},
   "outputs": [],
   "source": [
    "import glove\n",
    "from glove import Corpus, Glove"
   ]
  },
  {
   "cell_type": "code",
   "execution_count": null,
   "metadata": {},
   "outputs": [],
   "source": [
    "# creating a corpus object\n",
    "corpus = Corpus()"
   ]
  },
  {
   "cell_type": "code",
   "execution_count": null,
   "metadata": {},
   "outputs": [],
   "source": [
    "corpus.fit(tweets_tokenized, window=10)"
   ]
  },
  {
   "cell_type": "code",
   "execution_count": null,
   "metadata": {},
   "outputs": [],
   "source": [
    "glove = Glove(no_components=100, learning_rate=0.05)"
   ]
  },
  {
   "cell_type": "code",
   "execution_count": null,
   "metadata": {},
   "outputs": [],
   "source": [
    "glove.fit(corpus.matrix, epochs=30, no_threads=4, verbose=True)"
   ]
  },
  {
   "cell_type": "code",
   "execution_count": null,
   "metadata": {},
   "outputs": [],
   "source": [
    "glove.add_dictionary(corpus.dictionary)"
   ]
  },
  {
   "cell_type": "code",
   "execution_count": null,
   "metadata": {},
   "outputs": [],
   "source": [
    "glove.save('glove.model')"
   ]
  },
  {
   "cell_type": "code",
   "execution_count": null,
   "metadata": {},
   "outputs": [],
   "source": [
    "print glove.word_vectors[glove.dictionary['Trump']]}\n",
    "#This will print the embeddings for the word “Trump”."
   ]
  },
  {
   "cell_type": "code",
   "execution_count": null,
   "metadata": {},
   "outputs": [],
   "source": []
  },
  {
   "cell_type": "code",
   "execution_count": null,
   "metadata": {},
   "outputs": [],
   "source": []
  }
 ],
 "metadata": {
  "kernelspec": {
   "display_name": "Python 3",
   "language": "python",
   "name": "python3"
  },
  "language_info": {
   "codemirror_mode": {
    "name": "ipython",
    "version": 3
   },
   "file_extension": ".py",
   "mimetype": "text/x-python",
   "name": "python",
   "nbconvert_exporter": "python",
   "pygments_lexer": "ipython3",
   "version": "3.7.1"
  }
 },
 "nbformat": 4,
 "nbformat_minor": 2
}
